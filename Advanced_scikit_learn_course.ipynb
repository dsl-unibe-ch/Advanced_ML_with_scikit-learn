{
 "cells": [
  {
   "cell_type": "markdown",
   "source": [
    "# Advanced ML with scikit-learn\n",
    "<p>\n",
    "Bern, 2024<br>\n",
    "Prepared by Mykhailo Vladymyrov.\n",
    "</p>\n",
    "\n",
    "This work is licensed under a <a href=\"https://creativecommons.org/licenses/by-nc-sa/4.0/\">Creative Commons Attribution-NonCommercial-ShareAlike 4.0 International License</a>.\n"
   ],
   "metadata": {
    "collapsed": false
   }
  },
  {
   "cell_type": "markdown",
   "metadata": {
    "id": "HTX7FryF4Fo-"
   },
   "source": [
    "This course is designed to guide students in building a complete end to end studies involing Machine learning based tools.\n",
    "\n",
    "\n",
    "* Data inspection with non-linear embedding\n",
    "* Probabililistic gaussian clustering\n",
    "* K means - cluster number selection and metric selection\n",
    "* Clustering discrete data\n",
    "* Data Normalization\n",
    "* Data imputation\n",
    "* Pipelines\n",
    "* Data IO\n",
    "* Visualization techniques and interactive visualizations\n"
   ]
  },
  {
   "cell_type": "markdown",
   "metadata": {
    "id": "uLOV6Q7s4z9n"
   },
   "source": [
    "We focus here not as much on the tools used, as on the way of thinking, and approaching the task at hand."
   ]
  },
  {
   "cell_type": "markdown",
   "metadata": {},
   "source": [
    "# Imports and utils"
   ]
  },
  {
   "cell_type": "markdown",
   "metadata": {},
   "source": [
    "If you work on the Colab - you can install the packages with `!pip install package_name`:\n",
    "\n",
    "`!pip install dash hdbscan impyute kmodes plotly pyod scikit-learn==1.3 umap-learn`\n",
    "\n",
    "\n",
    "If you work on your local machine, please run your miniforge environment and install the packages like this:\n",
    "\n",
    "`mamba install dash hdbscan kmodes plotly pyod umap-learn`\n",
    "\n",
    "`pip install impyute`\n",
    "\n",
    "\n",
    "To export the environment to a file, you can run\n",
    "\n",
    "`mamba env export > environment.yml`\n",
    "\n",
    "\n",
    "To create the environment from the file, you can run\n",
    "\n",
    "`mamba env create -f environment.yml`"
   ]
  },
  {
   "cell_type": "code",
   "execution_count": null,
   "metadata": {},
   "outputs": [],
   "source": [
    "import os\n",
    "import requests\n",
    "import tarfile\n",
    "\n",
    "import pandas as pd\n",
    "import numpy as np\n",
    "\n",
    "from scipy.stats import kurtosis\n",
    "from scipy.stats import skew\n",
    "\n",
    "from sklearn.model_selection import train_test_split\n",
    "import matplotlib.colors as mcolors\n",
    "\n",
    "# dimensionality reduction\n",
    "import umap\n",
    "from sklearn.decomposition import PCA\n",
    "\n",
    "# clustering kmeans, gaussian\n",
    "from sklearn.cluster import KMeans\n",
    "from sklearn.cluster import HDBSCAN\n",
    "from sklearn.mixture import GaussianMixture\n",
    "from kmodes.kmodes import KModes\n",
    "from kmodes.kprototypes import KPrototypes\n",
    "\n",
    "# metrics for clustering\n",
    "from sklearn.metrics import silhouette_samples, silhouette_score\n",
    "from sklearn.metrics import calinski_harabasz_score\n",
    "from sklearn.metrics import davies_bouldin_score\n",
    "\n",
    "# classification report and metrics\n",
    "from sklearn.metrics import classification_report\n",
    "from sklearn.metrics import accuracy_score, confusion_matrix, f1_score, precision_score, recall_score, roc_auc_score, roc_curve\n",
    "# confusion matrix display\n",
    "from sklearn.metrics import ConfusionMatrixDisplay\n",
    "\n",
    "#regression metrics:\n",
    "from sklearn.metrics import mean_squared_error, mean_absolute_error, r2_score\n",
    "\n",
    "# preprocessing\n",
    "from sklearn.preprocessing import PowerTransformer, OrdinalEncoder, OneHotEncoder, StandardScaler, MinMaxScaler, RobustScaler, LabelEncoder\n",
    "\n",
    "# imputations\n",
    "from pyod.models.ecod import ECOD\n",
    "\n",
    "from sklearn.impute import SimpleImputer\n",
    "from sklearn.impute import KNNImputer\n",
    "from sklearn.experimental import enable_iterative_imputer\n",
    "from sklearn.impute import IterativeImputer\n",
    "\n",
    "from impyute.imputation.cs import mice\n",
    "\n",
    "# pipelines\n",
    "from sklearn.pipeline import Pipeline\n",
    "from sklearn.compose import ColumnTransformer\n",
    "from sklearn.preprocessing import PolynomialFeatures\n",
    "from sklearn.preprocessing import FunctionTransformer\n",
    "\n",
    "# a model\n",
    "from sklearn.ensemble import RandomForestRegressor\n",
    "from sklearn.model_selection import GridSearchCV\n",
    "\n",
    "# dataset\n",
    "from sklearn.datasets import fetch_california_housing\n",
    "\n",
    "# visualizations\n",
    "import matplotlib.pyplot as plt\n",
    "import seaborn as sns\n",
    "import plotly.express as px\n",
    "from dash import Dash, html, dcc, Input, Output, callback\n",
    "\n",
    "# utils\n",
    "from tqdm.auto import tqdm\n",
    "from joblib import dump, load"
   ]
  },
  {
   "cell_type": "code",
   "outputs": [],
   "source": [
    "# utility functions\n",
    "\n",
    "def psc():\n",
    "    plt.show()\n",
    "    plt.close()\n",
    "    \n",
    "def ptcs():\n",
    "    plt.tight_layout()\n",
    "    psc()"
   ],
   "metadata": {
    "collapsed": false
   },
   "execution_count": null
  },
  {
   "cell_type": "markdown",
   "metadata": {
    "id": "GMSEwruL39o_"
   },
   "source": [
    "# Step 0: study your data"
   ]
  },
  {
   "cell_type": "markdown",
   "source": [
    "The first step in any data analysis is to study the data. You are the domain expert, and you know your data the best. Yet there are always ways to see the data from a different angle, and to get a better understanding of it.\n",
    "\n",
    "Furthermore, the data might be corrupted, or have missing values, or be in a format that is not suitable for the task at hand.\n",
    "Thus, the first step is to inspect the data, and to make sure it is in a format that is suitable for the task at hand. "
   ],
   "metadata": {
    "collapsed": false
   }
  },
  {
   "cell_type": "markdown",
   "metadata": {},
   "source": [
    "## First inspection"
   ]
  },
  {
   "cell_type": "code",
   "execution_count": null,
   "metadata": {},
   "outputs": [],
   "source": [
    "# load house prices dataset\n",
    "\n",
    "data = fetch_california_housing()\n",
    "print(data.keys())"
   ]
  },
  {
   "cell_type": "code",
   "execution_count": null,
   "metadata": {},
   "outputs": [],
   "source": [
    "print(data.DESCR)\n",
    "print(data.feature_names)\n",
    "print(data.target_names)"
   ]
  },
  {
   "cell_type": "code",
   "execution_count": null,
   "metadata": {},
   "outputs": [],
   "source": [
    "x, y = data.data, data.target"
   ]
  },
  {
   "cell_type": "code",
   "execution_count": null,
   "metadata": {},
   "outputs": [],
   "source": [
    "print(x.shape, y.shape)"
   ]
  },
  {
   "cell_type": "code",
   "execution_count": null,
   "metadata": {},
   "outputs": [],
   "source": [
    "xy = np.concatenate((x, y.reshape(-1, 1)), axis=1)\n",
    "print(xy.shape)\n",
    "\n",
    "df = pd.DataFrame(xy, columns=data.feature_names + data.target_names)"
   ]
  },
  {
   "cell_type": "code",
   "execution_count": null,
   "metadata": {},
   "outputs": [],
   "source": [
    "df.head()"
   ]
  },
  {
   "cell_type": "code",
   "execution_count": null,
   "metadata": {},
   "outputs": [],
   "source": [
    "df.describe().T"
   ]
  },
  {
   "cell_type": "code",
   "execution_count": null,
   "metadata": {},
   "outputs": [],
   "source": [
    "%%time\n",
    "# make pairplot of the data and target\n",
    "\n",
    "sns.pairplot(df)"
   ]
  },
  {
   "cell_type": "markdown",
   "metadata": {},
   "source": [
    "In the dense area there are so many points, that we can't really see the distrinution. We can use the Kernel Density Estimation (KDE) plot"
   ]
  },
  {
   "cell_type": "code",
   "execution_count": null,
   "metadata": {},
   "outputs": [],
   "source": [
    "%%time\n",
    "# as we can see making kde pairplot takes a lot of time.\n",
    "# we can subsample the data to make it faster\n",
    "# subsample the data to 10%\n",
    "df_sub = df.sample(frac=0.1)\n",
    "print(df_sub.shape)\n",
    "\n",
    "# make PairGrid of the data and target as:\n",
    "g = sns.PairGrid(df_sub)\n",
    "# kde on upper triangle\n",
    "g.map_upper(sns.kdeplot, n_levels=10)\n",
    "\n",
    "# scatter on lower triangle\n",
    "# complement lower triangle with overlayed correlation line in red and scatter plot in blue, 5% opacity, marker size small\n",
    "g.map_lower(sns.regplot, scatter_kws={'color': 'blue', 'alpha': 0.1, 's': 15}, line_kws={'color': 'red', 'alpha': 0.3})\n",
    "\n",
    "# and on diagonal a histogram\n",
    "g.map_diag(sns.histplot, multiple='stack')"
   ]
  },
  {
   "cell_type": "code",
   "execution_count": null,
   "metadata": {},
   "outputs": [],
   "source": [
    "# make pca of the x data, same number of components as the original data\n",
    "n_components = x.shape[1]\n",
    "pca = PCA(n_components=n_components)\n",
    "\n",
    "x_pca = pca.fit_transform(x)\n",
    "\n",
    "print(x_pca.shape)\n",
    "# plot explained variance\n",
    "plt.plot(pca.explained_variance_ratio_);"
   ]
  },
  {
   "cell_type": "code",
   "execution_count": null,
   "metadata": {
    "is_executing": true
   },
   "outputs": [],
   "source": [
    "# make 2d scatter plot of the pca data with seaborn\n",
    "\n",
    "ax = sns.scatterplot(x=x_pca[:, 0], y=x_pca[:, 1], hue=y)\n",
    "ax.set(xlabel='PCA 1', ylabel='PCA 2')\n",
    "psc()"
   ]
  },
  {
   "cell_type": "code",
   "execution_count": null,
   "metadata": {
    "is_executing": true
   },
   "outputs": [],
   "source": [
    "# make 2d kd plot of the pca data with seaborn\n",
    "\n",
    "# again, this takes a lot of time, so we could subsample the data\n",
    "\n",
    "ax = sns.kdeplot(x=x_pca[:, 0], y=x_pca[:, 1])\n",
    "ax.set(xlabel='PCA 1', ylabel='PCA 2')\n",
    "psc()"
   ]
  },
  {
   "cell_type": "code",
   "execution_count": null,
   "metadata": {
    "is_executing": true
   },
   "outputs": [],
   "source": [
    "# make 3d scatter plot of the pca data with plotly\n",
    "\n",
    "px.scatter_3d(x=x_pca[:, 0], y=x_pca[:, 1], z=x_pca[:, 2], color=y, opacity=0.7, labels={'x': 'PCA 1', 'y': 'PCA 2', 'z': 'PCA 3'})"
   ]
  },
  {
   "cell_type": "markdown",
   "metadata": {},
   "source": [
    "what do you notice about the data? in the last two plots?\n",
    "do you see anything odd?"
   ]
  },
  {
   "cell_type": "markdown",
   "metadata": {},
   "source": [
    "## Normalization"
   ]
  },
  {
   "cell_type": "code",
   "execution_count": null,
   "metadata": {
    "is_executing": true
   },
   "outputs": [],
   "source": [
    "x_orig = x.copy()\n",
    "y_orig = y.copy()"
   ]
  },
  {
   "cell_type": "code",
   "execution_count": null,
   "metadata": {
    "is_executing": true
   },
   "outputs": [],
   "source": [
    "# perform normalization of the x and y data sing standard scaler\n",
    "\n",
    "scaler_x = StandardScaler()\n",
    "scaler_y = StandardScaler()\n",
    "x = scaler_x.fit_transform(x)\n",
    "y = scaler_y.fit_transform(y.reshape(-1, 1)).reshape(-1)\n"
   ]
  },
  {
   "cell_type": "code",
   "execution_count": null,
   "metadata": {
    "is_executing": true
   },
   "outputs": [],
   "source": [
    "# print normalization coefficients\n",
    "\n",
    "print(scaler_x.mean_, scaler_x.var_)\n",
    "print(scaler_y.mean_, scaler_y.var_)"
   ]
  },
  {
   "cell_type": "code",
   "execution_count": null,
   "metadata": {
    "is_executing": true
   },
   "outputs": [],
   "source": [
    "# you can always inverse transform the data to see if it is correct\n",
    "\n",
    "x_inv = scaler_x.inverse_transform(x)\n",
    "y_inv = scaler_y.inverse_transform(y.reshape(-1, 1)).reshape(-1)"
   ]
  },
  {
   "cell_type": "code",
   "execution_count": null,
   "metadata": {
    "is_executing": true
   },
   "outputs": [],
   "source": [
    "# print mean and variance of the transformed data\n",
    "\n",
    "print(x.mean(axis=0), x.var(axis=0))\n",
    "print(y.mean(), y.var())"
   ]
  },
  {
   "cell_type": "code",
   "execution_count": null,
   "metadata": {
    "is_executing": true
   },
   "outputs": [],
   "source": [
    "# print mean and variance of the inverse transformed data\n",
    "\n",
    "print(x_inv.mean(axis=0), x_inv.var(axis=0))\n",
    "print(y_inv.mean(), y_inv.var())"
   ]
  },
  {
   "cell_type": "code",
   "execution_count": null,
   "metadata": {
    "is_executing": true
   },
   "outputs": [],
   "source": [
    "# print mean and variance of the original data\n",
    "\n",
    "print(x_orig.mean(axis=0), x_orig.var(axis=0))\n",
    "print(y_orig.mean(), y_orig.var())"
   ]
  },
  {
   "cell_type": "markdown",
   "metadata": {},
   "source": [
    "## Non-linear embedding"
   ]
  },
  {
   "cell_type": "code",
   "execution_count": null,
   "metadata": {
    "is_executing": true
   },
   "outputs": [],
   "source": [
    "%%time\n",
    "# make 2D and 3D umap of the x data\n",
    "\n",
    "umap_2d = umap.UMAP(n_components=2, n_neighbors=30, min_dist=0.1)\n",
    "umap_3d = umap.UMAP(n_components=3, n_neighbors=30, min_dist=0.1)\n",
    "\n",
    "x_umap_2d = umap_2d.fit_transform(x)\n",
    "x_umap_3d = umap_3d.fit_transform(x)\n",
    "\n",
    "print(x_umap_2d.shape, x_umap_3d.shape)"
   ]
  },
  {
   "cell_type": "code",
   "execution_count": null,
   "metadata": {
    "is_executing": true
   },
   "outputs": [],
   "source": [
    "# plot 2d umap with seaborn\n",
    "\n",
    "sns.scatterplot(x=x_umap_2d[:, 0], y=x_umap_2d[:, 1], hue=y);"
   ]
  },
  {
   "cell_type": "code",
   "execution_count": null,
   "metadata": {
    "is_executing": true
   },
   "outputs": [],
   "source": [
    "%%time\n",
    "# plot 2d umap with seaborn as KDE\n",
    "\n",
    "sns.kdeplot(x=x_umap_2d[:, 0], y=x_umap_2d[:, 1])"
   ]
  },
  {
   "cell_type": "code",
   "execution_count": null,
   "metadata": {
    "is_executing": true
   },
   "outputs": [],
   "source": [
    "# plot 3d umap with plotly, make big figure (800x800)\n",
    "\n",
    "fig = px.scatter_3d(x=x_umap_3d[:, 0], y=x_umap_3d[:, 1], z=x_umap_3d[:, 2], color=y, opacity=0.7)\n",
    "fig.update_layout(width=800, height=800)\n",
    "fig.show()"
   ]
  },
  {
   "cell_type": "code",
   "execution_count": null,
   "metadata": {
    "is_executing": true
   },
   "outputs": [],
   "source": [
    "%%time\n",
    "# make 2d umap with 3, 10, 30, 50, 100, and 300 neighbors.\n",
    "# make 2d scatter plot of the umaped data with seaborn on 6 subplots\n",
    "\n",
    "fig, axes = plt.subplots(2, 3, figsize=(15, 10))\n",
    "\n",
    "for i, n_neighbors in enumerate(tqdm([3, 10, 30, 50, 100, 300])):\n",
    "    ax_idx_x = i//3\n",
    "    ax_idx_y = i%3\n",
    "    umap_2d = umap.UMAP(n_components=2, n_neighbors=n_neighbors, min_dist=0.1)\n",
    "    x_umap_2d = umap_2d.fit_transform(x)\n",
    "    sns.scatterplot(x=x_umap_2d[:, 0], y=x_umap_2d[:, 1], hue=y, ax=axes[ax_idx_x, ax_idx_y])\n",
    "    # hide the legend for all but the first plot\n",
    "    if i > 0:\n",
    "        axes[ax_idx_x, ax_idx_y].get_legend().remove()\n",
    "    axes[ax_idx_x, ax_idx_y].set_title(f'n_neighbors={n_neighbors}')\n",
    "\n",
    "ptcs()"
   ]
  },
  {
   "cell_type": "markdown",
   "metadata": {},
   "source": [
    "## Clustering"
   ]
  },
  {
   "cell_type": "markdown",
   "metadata": {},
   "source": [
    "As with any method we need a way to evaluate the quality. For clustering we can use the silhouette score.\n",
    "The silhouette score is a measure of how similar an object is to its own cluster (cohesion) compared to other clusters (separation).\n",
    "is is defined as follows:\n",
    "\n",
    "$$s(p) = \\frac{b(p) - a(p)}{max(a(p), b(p))}$$\n",
    "\n",
    "where:\n",
    "* $a(p)$ is the average distance of p to all other points in the *same* cluster\n",
    "* $b(p)$ is the average distance of p to all other points in the *closest* cluster\n",
    "* $s(p)$ is the silhouette score of p\n",
    "* $max(a(p), b(p))$ is the maximum of $a(p)$ and $b(p)$\n",
    "\n",
    "The silhouette can be interpreted as follows:\n",
    "* $s(p)$ is between -1 and 1\n",
    "* $s(p)$ is close to 1 if $a(p) << b(p)$, i.e. the point is well clustered\n",
    "* $s(p)$ is close to 0 if $a(p) \\approx b(p)$, i.e. the point is on the border of the cluster\n",
    "* $s(p)$ is close to -1 if $a(p) >> b(p)$, i.e. the point is in the wrong cluster"
   ]
  },
  {
   "cell_type": "code",
   "execution_count": null,
   "metadata": {
    "code_folding": [
     4
    ],
    "scrolled": true,
    "is_executing": true
   },
   "outputs": [],
   "source": [
    "# make kmeans clustering of the original data\n",
    "\n",
    "n_clusters_arr = np.arange(2, 11)\n",
    "\n",
    "\n",
    "s_s_arr = [] \n",
    "ch_s_arr = []\n",
    "db_s_arr = []\n",
    "\n",
    "for n_clusters in tqdm(n_clusters_arr):\n",
    "    cm = plt.cm.get_cmap('tab20b', n_clusters)\n",
    "    plt.rcParams['axes.prop_cycle'] = plt.cycler(color=cm.colors)\n",
    "\n",
    "    kmeans = KMeans(n_clusters=n_clusters, n_init=10, max_iter=500)\n",
    "    classes = kmeans.fit_predict(x)\n",
    "    centroids = kmeans.cluster_centers_\n",
    "\n",
    "    silhouette_values = silhouette_samples(x, classes)\n",
    "\n",
    "\n",
    "    fig, ax = plt.subplots(1,2,figsize=(15,5))\n",
    "\n",
    "    n_points = len(x)\n",
    "    cluster_y_min = 0\n",
    "    ofs = int(n_points / 20)\n",
    "    for cluster_idx, cluster_class in enumerate(np.unique(classes)):\n",
    "        cluster_silhouette_values = silhouette_values[classes == cluster_class]\n",
    "        cluster_silhouette_values.sort()\n",
    "\n",
    "        cluster_size = len(cluster_silhouette_values)\n",
    "        cluster_y_max = cluster_y_min + cluster_size\n",
    "\n",
    "        ax[0].barh(range(cluster_y_min, cluster_y_max), cluster_silhouette_values, height=1.0, linewidth=0)\n",
    "        ax[0].text(-0.05, (cluster_y_min + cluster_y_max) / 2, str(cluster_idx), ha='center', va='center')\n",
    "        cluster_mean_score = np.mean(cluster_silhouette_values)\n",
    "        ax[0].text(0.1, (cluster_y_min + cluster_y_max) / 2, f'{cluster_mean_score:.3f}', ha='center', va='center')\n",
    "\n",
    "        cluster_y_min = cluster_y_max + ofs\n",
    "\n",
    "    mean_score = np.mean(silhouette_values)\n",
    "    ax[0].axvline(x=mean_score, color='red', linestyle='--')\n",
    "    ax[0].set_title(f'Silhouette score')\n",
    "    ax[0].set_xlabel('Silhouette score')\n",
    "    ax[0].set_ylabel('Sample/Cluster')\n",
    "    ax[0].set_yticks([])\n",
    "    ax[0].set_xlim([-0.1, 1])\n",
    "\n",
    "\n",
    "    # plot the centroids and 2D scatter plot of the umap_2d data\n",
    "    ax[1].scatter(x_umap_2d[:, 0], x_umap_2d[:, 1], c=classes, alpha=0.1, cmap=cm)\n",
    "    # get centroids in umap space\n",
    "    centroids_umap = umap_2d.transform(centroids)\n",
    "    ax[1].scatter(centroids_umap[:, 0], centroids_umap[:, 1], c='red', s=100, marker='x')\n",
    "    ax[1].set_title('Scatter plot of the UMAPed data with centroids')\n",
    "\n",
    "    s_s = silhouette_score(x, classes)\n",
    "    ch_s = calinski_harabasz_score(x, classes)\n",
    "    db_s = davies_bouldin_score(x, classes)\n",
    "    \n",
    "    s_s_arr.append(s_s)\n",
    "    ch_s_arr.append(ch_s)\n",
    "    db_s_arr.append(db_s)\n",
    "    \n",
    "    plt.suptitle(f'Silhouette plot for {n_clusters} clusters, mean score: {mean_score:.3f}, silhouette score: {s_s:.3f}, calinski harabasz score: {ch_s:.3f}, davies bouldin score: {db_s:.3f}')\n",
    "    psc()\n",
    "    \n",
    "    \n",
    "fig, ax = plt.subplots(1, 3, figsize=(10, 2.5))\n",
    "ax[0].plot(n_clusters_arr, s_s_arr)\n",
    "ax[0].set(xlabel='Number of clusters', ylabel='Score', title='Silhouette score', ylim=[-0.1, 1])\n",
    "ax[1].plot(n_clusters_arr, ch_s_arr)\n",
    "ax[1].set(xlabel='Number of clusters', title='Calinski Harabasz score')\n",
    "ax[2].plot(n_clusters_arr, db_s_arr)\n",
    "ax[2].set(xlabel='Number of clusters', title='Davies Bouldin score')\n",
    "psc()"
   ]
  },
  {
   "cell_type": "markdown",
   "source": [
    "Silhouette score is a measure of how similar an object is to its own cluster (cohesion) compared to other clusters (separation), higher is better.\n",
    "\n",
    "Calinski Harabasz score is a measure of how dense the clusters are, higher is better.\n",
    "\n",
    "Davies Bouldin score is a measure of how similar the clusters are, lower is better."
   ],
   "metadata": {
    "collapsed": false
   }
  },
  {
   "cell_type": "code",
   "execution_count": null,
   "metadata": {
    "code_folding": [
     4
    ],
    "scrolled": true,
    "is_executing": true
   },
   "outputs": [],
   "source": [
    "# make kmeans clustering of the umapped data\n",
    "\n",
    "n_clusters_arr = np.arange(2, 11)\n",
    "s_s_arr = [] \n",
    "ch_s_arr = []\n",
    "db_s_arr = []\n",
    "\n",
    "for n_clusters in tqdm(n_clusters_arr):\n",
    "    cm = plt.cm.get_cmap('tab20b', n_clusters)\n",
    "    plt.rcParams['axes.prop_cycle'] = plt.cycler(color=cm.colors)\n",
    "\n",
    "    kmeans = KMeans(n_clusters=n_clusters, n_init=10, max_iter=500)\n",
    "    classes = kmeans.fit_predict(x_umap_2d)\n",
    "    centroids = kmeans.cluster_centers_\n",
    "\n",
    "    silhouette_values = silhouette_samples(x_umap_2d, classes)\n",
    "\n",
    "\n",
    "    fig, ax = plt.subplots(1,2,figsize=(15,5))\n",
    "\n",
    "    n_points = len(x_umap_2d)\n",
    "    cluster_y_min = 0\n",
    "    ofs = int(n_points / 20)\n",
    "    for cluster_idx, cluster_class in enumerate(np.unique(classes)):\n",
    "        cluster_silhouette_values = silhouette_values[classes == cluster_class]\n",
    "        cluster_silhouette_values.sort()\n",
    "\n",
    "        cluster_size = len(cluster_silhouette_values)\n",
    "        cluster_y_max = cluster_y_min + cluster_size\n",
    "\n",
    "        ax[0].barh(range(cluster_y_min, cluster_y_max), cluster_silhouette_values, height=1.0, linewidth=0)\n",
    "        ax[0].text(-0.05, (cluster_y_min + cluster_y_max) / 2, str(cluster_idx), ha='center', va='center')\n",
    "        cluster_mean_score = np.mean(cluster_silhouette_values)\n",
    "        ax[0].text(0.1, (cluster_y_min + cluster_y_max) / 2, f'{cluster_mean_score:.3f}', ha='center', va='center')\n",
    "\n",
    "        cluster_y_min = cluster_y_max + ofs\n",
    "\n",
    "    mean_score = np.mean(silhouette_values)\n",
    "    ax[0].axvline(x=mean_score, color='red', linestyle='--')\n",
    "    ax[0].set_title(f'Silhouette score')\n",
    "    ax[0].set_xlabel('Silhouette score')\n",
    "    ax[0].set_ylabel('Sample/Cluster')\n",
    "    ax[0].set_yticks([])\n",
    "    ax[0].set_xlim([-0.1, 1])\n",
    "\n",
    "\n",
    "    # plot the centroids and 2D scatter plot of the umap_2d data\n",
    "    ax[1].scatter(x_umap_2d[:, 0], x_umap_2d[:, 1], c=classes, alpha=0.1, cmap=cm)\n",
    "    ax[1].scatter(centroids[:, 0], centroids[:, 1], c='red', s=100, marker='x')\n",
    "    ax[1].set_title('Scatter plot of the UMAPed data with centroids')\n",
    "\n",
    "    plt.suptitle(f'Silhouette plot for {n_clusters} clusters, mean score: {mean_score:.3f}')\n",
    "    psc()\n",
    "    \n",
    "    s_s = silhouette_score(x, classes)\n",
    "    ch_s = calinski_harabasz_score(x, classes)\n",
    "    db_s = davies_bouldin_score(x, classes)\n",
    "    \n",
    "    s_s_arr.append(s_s)\n",
    "    ch_s_arr.append(ch_s)\n",
    "    db_s_arr.append(db_s)\n",
    "    \n",
    "fig, ax = plt.subplots(1, 3, figsize=(10, 2.5))\n",
    "ax[0].plot(n_clusters_arr, s_s_arr)\n",
    "ax[0].set(xlabel='Number of clusters', ylabel='Score', title='Silhouette score', ylim=[-0.1, 1])\n",
    "ax[1].plot(n_clusters_arr, ch_s_arr)\n",
    "ax[1].set(xlabel='Number of clusters', title='Calinski Harabasz score')\n",
    "ax[2].plot(n_clusters_arr, db_s_arr)\n",
    "ax[2].set(xlabel='Number of clusters', title='Davies Bouldin score')\n",
    "psc()"
   ]
  },
  {
   "cell_type": "code",
   "execution_count": null,
   "metadata": {
    "is_executing": true
   },
   "outputs": [],
   "source": [
    "%%time\n",
    "# make HDBSCAN clustering of the umapped data\n",
    "\n",
    "hdb = HDBSCAN(min_cluster_size=10, n_jobs=2)\n",
    "classes = hdb.fit_predict(x_umap_2d)\n",
    "\n",
    "n_clusters = len(np.unique(classes))\n",
    "cm = plt.cm.get_cmap('tab20b', n_clusters)\n",
    "plt.rcParams['axes.prop_cycle'] = plt.cycler(color=cm.colors)\n",
    "silhouette_values = silhouette_samples(x_umap_2d, classes)\n",
    "\n",
    "fig, ax = plt.subplots(1,2,figsize=(15,5))\n",
    "\n",
    "n_points = len(x_umap_2d)\n",
    "cluster_y_min = 0\n",
    "ofs = int(n_points / 20)\n",
    "for cluster_idx, cluster_class in enumerate(np.unique(classes)):\n",
    "    cluster_silhouette_values = silhouette_values[classes == cluster_class]\n",
    "    cluster_silhouette_values.sort()\n",
    "\n",
    "    cluster_size = len(cluster_silhouette_values)\n",
    "    cluster_y_max = cluster_y_min + cluster_size\n",
    "\n",
    "    ax[0].barh(range(cluster_y_min, cluster_y_max), cluster_silhouette_values, height=1.0, linewidth=0)\n",
    "    ax[0].text(-0.05, (cluster_y_min + cluster_y_max) / 2, str(cluster_class), ha='center', va='center')\n",
    "    cluster_mean_score = np.mean(cluster_silhouette_values)\n",
    "    ax[0].text(0.1, (cluster_y_min + cluster_y_max) / 2, f'{cluster_mean_score:.3f}', ha='center', va='center')\n",
    "\n",
    "    cluster_y_min = cluster_y_max + ofs\n",
    "\n",
    "mean_score = np.mean(silhouette_values)\n",
    "ax[0].axvline(x=mean_score, color='red', linestyle='--')\n",
    "ax[0].set_title(f'Silhouette score')\n",
    "ax[0].set_xlabel('Silhouette score')\n",
    "ax[0].set_ylabel('Sample/Cluster')\n",
    "ax[0].set_yticks([])\n",
    "ax[0].set_xlim([-0.1, 1])\n",
    "\n",
    "# plot the centroids and 2D scatter plot of the umap_2d data\n",
    "ax[1].scatter(x_umap_2d[:, 0], x_umap_2d[:, 1], c=classes, alpha=0.1, cmap='tab20b')\n",
    "ax[1].set_title('Scatter plot of the UMAPed data with HDBSCAN clusters')\n",
    "\n",
    "plt.suptitle(f'Silhouette plot for HDBSCAN clusters, mean score: {mean_score:.3f}')\n",
    "plt.show()\n"
   ]
  },
  {
   "cell_type": "code",
   "execution_count": null,
   "metadata": {
    "is_executing": true
   },
   "outputs": [],
   "source": [
    "classes_hdbscan = classes"
   ]
  },
  {
   "cell_type": "markdown",
   "metadata": {},
   "source": [
    "gaussian clustering - probabilistic clustering.\n",
    "in this case the clusters are not hard, but soft, i.e. each point has a probability of belonging to each cluster.\n",
    "\n",
    "let's make clustering of the umapped data."
   ]
  },
  {
   "cell_type": "code",
   "execution_count": null,
   "metadata": {
    "code_folding": [
     4
    ],
    "is_executing": true
   },
   "outputs": [],
   "source": [
    "# make gaussian clustering of the umapped data\n",
    "\n",
    "n_clusters_arr = np.arange(2, 11)\n",
    "\n",
    "\n",
    "s_s_arr = [] \n",
    "ch_s_arr = []\n",
    "db_s_arr = []\n",
    "\n",
    "for n_clusters in tqdm(n_clusters_arr):\n",
    "    cm = plt.cm.get_cmap('tab20b', n_clusters)\n",
    "    plt.rcParams['axes.prop_cycle'] = plt.cycler(color=cm.colors)\n",
    "\n",
    "    gmm = GaussianMixture(n_components=n_clusters, n_init=10, max_iter=500)\n",
    "    gmm.fit(x_umap_2d)\n",
    "    classes = gmm.predict(x_umap_2d)\n",
    "    probabilities = gmm.predict_proba(x_umap_2d)\n",
    "\n",
    "    means = gmm.means_\n",
    "    covariances = gmm.covariances_\n",
    "\n",
    "    silhouette_values = silhouette_samples(x_umap_2d, classes)\n",
    "\n",
    "    fig, ax = plt.subplots(1,2,figsize=(15,5))\n",
    "\n",
    "    n_points = len(x_umap_2d)\n",
    "    cluster_y_min = 0\n",
    "    ofs = int(n_points / 20)\n",
    "\n",
    "    for cluster_idx, cluster_class in enumerate(np.unique(classes)):\n",
    "        cluster_silhouette_values = silhouette_values[classes == cluster_class]\n",
    "        cluster_silhouette_values.sort()\n",
    "\n",
    "        cluster_size = len(cluster_silhouette_values)\n",
    "        cluster_y_max = cluster_y_min + cluster_size\n",
    "\n",
    "        ax[0].barh(range(cluster_y_min, cluster_y_max), cluster_silhouette_values, height=1.0, linewidth=0)\n",
    "        ax[0].text(-0.05, (cluster_y_min + cluster_y_max) / 2, str(cluster_idx), ha='center', va='center')\n",
    "        cluster_mean_score = np.mean(cluster_silhouette_values)\n",
    "        ax[0].text(0.1, (cluster_y_min + cluster_y_max) / 2, f'{cluster_mean_score:.3f}', ha='center', va='center')\n",
    "\n",
    "        cluster_y_min = cluster_y_max + ofs\n",
    "\n",
    "    mean_score = np.mean(silhouette_values)\n",
    "    ax[0].axvline(x=mean_score, color='red', linestyle='--')\n",
    "    ax[0].set_title(f'Silhouette score')\n",
    "    ax[0].set_xlabel('Silhouette score')\n",
    "    ax[0].set_ylabel('Sample/Cluster')\n",
    "    ax[0].set_yticks([])\n",
    "    ax[0].set_xlim([-0.1, 1])\n",
    "\n",
    "    # plot the centroids and 2D scatter plot of the umap_2d data\n",
    "    ax[1].scatter(x_umap_2d[:, 0], x_umap_2d[:, 1], c=classes, alpha=0.1, cmap=cm)\n",
    "    # get centroids in umap space\n",
    "    ax[1].scatter(means[:, 0], means[:, 1], c='red', s=100, marker='x')\n",
    "    ax[1].set_title('Scatter plot of the UMAPed data with centroids')\n",
    "\n",
    "    plt.suptitle(f'Silhouette plot for {n_clusters} clusters, mean score: {mean_score:.3f}')\n",
    "    psc()\n",
    "    \n",
    "    s_s = silhouette_score(x, classes)\n",
    "    ch_s = calinski_harabasz_score(x, classes)\n",
    "    db_s = davies_bouldin_score(x, classes)\n",
    "    \n",
    "    s_s_arr.append(s_s)\n",
    "    ch_s_arr.append(ch_s)\n",
    "    db_s_arr.append(db_s)\n",
    "    \n",
    "    # make a 1 x n_clusters plot, xy range given by min-max of all data,\n",
    "    # each subplot showing probability of belonging to each cluster per point using probabilities for color\n",
    "    # add a lolorbar normalized to 0-1\n",
    "    fig, ax = plt.subplots(1, n_clusters, figsize=(4 * n_clusters, 4))\n",
    "    cnorm = mcolors.Normalize(vmin=0, vmax=1)\n",
    "    cmap = 'viridis'\n",
    "    for i in range(n_clusters):\n",
    "        ax[i].scatter(x_umap_2d[:, 0], x_umap_2d[:, 1], c=cnorm(probabilities[:, i]), cmap=cmap, alpha=0.1)\n",
    "        ax[i].set(xlabel='UMAP 1', ylabel='UMAP 2', title=f'Cluster {i}')\n",
    "        \n",
    "    sm = plt.cm.ScalarMappable(norm=cnorm, cmap=cmap)\n",
    "    fig.colorbar(sm, ax=ax, orientation='horizontal', label='Probability', fraction=0.05)\n",
    "    psc()\n",
    "    \n",
    "    \n",
    "fig, ax = plt.subplots(1, 3, figsize=(10, 2.5))\n",
    "ax[0].plot(n_clusters_arr, s_s_arr)\n",
    "ax[0].set(xlabel='Number of clusters', ylabel='Score', title='Silhouette score', ylim=[-0.1, 1])\n",
    "ax[1].plot(n_clusters_arr, ch_s_arr)\n",
    "ax[1].set(xlabel='Number of clusters', title='Calinski Harabasz score')\n",
    "ax[2].plot(n_clusters_arr, db_s_arr)\n",
    "ax[2].set(xlabel='Number of clusters', title='Davies Bouldin score')\n",
    "psc()"
   ]
  },
  {
   "cell_type": "markdown",
   "metadata": {},
   "source": [
    "## Inspect for each class"
   ]
  },
  {
   "cell_type": "code",
   "execution_count": null,
   "metadata": {
    "is_executing": true
   },
   "outputs": [],
   "source": [
    "xy = np.concatenate((x, y.reshape(-1, 1), classes_hdbscan.reshape(-1, 1)), axis=1)\n",
    "print(xy.shape)\n",
    "\n",
    "df = pd.DataFrame(xy, columns=data.feature_names + data.target_names + ['class_hdbscan'])\n",
    "\n",
    "df.head()"
   ]
  },
  {
   "cell_type": "code",
   "execution_count": null,
   "metadata": {
    "is_executing": true
   },
   "outputs": [],
   "source": [
    "%%time\n",
    "# as we can see making kde pairplot takes a lot of time.\n",
    "# we can subsample the data to make it faster\n",
    "# subsample the data to 10%\n",
    "df_sub = df.sample(frac=0.1)\n",
    "print(df_sub.shape)\n",
    "\n",
    "# make PairGrid of the data and target as:\n",
    "g = sns.PairGrid(df_sub, hue='class_hdbscan')\n",
    "# kde on upper triangle\n",
    "g.map_upper(sns.kdeplot, n_levels=10)\n",
    "\n",
    "# scatter on lower triangle\n",
    "# complement lower triangle with overlayed correlation line in red and scatter plot in blue, 5% opacity, marker size small\n",
    "g.map_lower(sns.regplot, scatter_kws={'color': 'blue', 'alpha': 0.1, 's': 15}, line_kws={'color': 'red', 'alpha': 0.3})\n",
    "\n",
    "# and on diagonal a histogram\n",
    "g.map_diag(sns.histplot, multiple='stack')"
   ]
  },
  {
   "cell_type": "markdown",
   "metadata": {},
   "source": [
    "## Discrete K means:"
   ]
  },
  {
   "cell_type": "code",
   "execution_count": null,
   "metadata": {
    "is_executing": true
   },
   "outputs": [],
   "source": [
    "# random categorical data\n",
    "x_test = np.random.choice(20, (1000, 10))\n",
    "\n",
    "km = KModes(n_clusters=4, init='Huang', n_init=10, verbose=1, n_jobs=-1, max_iter=500)\n",
    "\n",
    "clusters = km.fit_predict(x_test)\n",
    "\n",
    "# Print the cluster centroids\n",
    "print(km.cluster_centroids_)"
   ]
  },
  {
   "cell_type": "code",
   "execution_count": null,
   "metadata": {
    "is_executing": true
   },
   "outputs": [],
   "source": [
    "df.columns\n"
   ]
  },
  {
   "cell_type": "code",
   "execution_count": null,
   "metadata": {
    "is_executing": true
   },
   "outputs": [],
   "source": [
    "# make new column in the original data such that AveRooms_d = int(AveRooms//0.3) and same for AveBedrms_d, Population_d, and HouseAge_d\n",
    "\n",
    "df['AveRooms_d'] = (df['AveRooms'] // 0.3).astype(int)\n",
    "df['AveBedrms_d'] = (df['AveBedrms'] // 0.3).astype(int)\n",
    "df['Population_d'] = (df['Population'] // 0.3).astype(int)\n",
    "df['HouseAge_d'] = (df['HouseAge'] // 0.3).astype(int)\n"
   ]
  },
  {
   "cell_type": "code",
   "execution_count": null,
   "metadata": {
    "is_executing": true
   },
   "outputs": [],
   "source": [
    "# make discrete kmeans clustering of the original data\n",
    "\n",
    "x4_d = df[['AveRooms_d', 'AveBedrms_d', 'Population_d', 'HouseAge_d']].values\n",
    "x4 = df[['AveRooms', 'AveBedrms', 'Population', 'HouseAge']].values\n",
    "\n",
    "umap_2d = umap.UMAP(n_components=2, n_neighbors=30, min_dist=0.1)\n",
    "x4_umap_2d = umap_2d.fit_transform(x4)\n",
    "\n",
    "\n",
    "n_clusters_arr = np.arange(2, 6)\n",
    "costs_arr = []\n",
    "\n",
    "for n_clusters in n_clusters_arr:\n",
    "    cm = plt.cm.get_cmap('tab20b', n_clusters)\n",
    "    plt.rcParams['axes.prop_cycle'] = plt.cycler(color=cm.colors)\n",
    "    \n",
    "    km = KModes(n_clusters=n_clusters, init='Huang', n_init=10, verbose=1, n_jobs=-1, max_iter=500)\n",
    "\n",
    "    clusters = km.fit_predict(x4_d)\n",
    "    costs_arr.append(km.cost_)\n",
    "\n",
    "    # plot the umap_2d data with the classes\n",
    "    fig, ax = plt.subplots(1, 1, figsize=(3, 3))\n",
    "\n",
    "    sns.scatterplot(x=x4_umap_2d[:, 0], y=x4_umap_2d[:, 1], hue=clusters, ax=ax, s=10, alpha=0.1, cmap=cm)\n",
    "    ax.set_title(f'Scatter plot of the UMAPed data with {n_clusters} clusters')\n",
    "\n",
    "    psc()\n",
    "\n",
    "plt.plot(n_clusters_arr, costs_arr)\n",
    "plt.xlabel('Number of clusters')\n",
    "plt.ylabel('Cost')\n",
    "plt.title('Cost of clustering')\n",
    "psc()"
   ]
  },
  {
   "cell_type": "code",
   "execution_count": null,
   "metadata": {
    "scrolled": true,
    "is_executing": true
   },
   "outputs": [],
   "source": [
    "# You can combine categorical and continuous data in the clustering\n",
    "\n",
    "x8_d = df[['AveRooms_d', 'AveBedrms_d', 'Population_d', 'HouseAge_d', 'MedInc', 'AveOccup', 'Latitude', 'Longitude']].values\n",
    "cat_cols = [0, 1, 2, 3]\n",
    "x8 = df[['AveRooms', 'AveBedrms', 'Population', 'HouseAge']].values\n",
    "\n",
    "umap_2d = umap.UMAP(n_components=2, n_neighbors=30, min_dist=0.1)\n",
    "x8_umap_2d = umap_2d.fit_transform(x8)\n",
    "\n",
    "\n",
    "n_clusters_arr = np.arange(2, 11)\n",
    "costs_arr = []\n",
    "\n",
    "for n_clusters in n_clusters_arr:\n",
    "    cm = plt.cm.get_cmap('tab20b', n_clusters)\n",
    "    plt.rcParams['axes.prop_cycle'] = plt.cycler(color=cm.colors)\n",
    "    \n",
    "    km = KPrototypes(n_clusters=n_clusters, init='Huang', n_init=10, verbose=1, n_jobs=-1, max_iter=500)\n",
    "\n",
    "    clusters = km.fit_predict(x8_d, categorical=cat_cols)\n",
    "    costs_arr.append(km.cost_)\n",
    "\n",
    "    # plot the umap_2d data with the classes\n",
    "    fig, ax = plt.subplots(1, 1, figsize=(3, 3))\n",
    "\n",
    "    sns.scatterplot(x=x8_umap_2d[:, 0], y=x8_umap_2d[:, 1], hue=clusters, ax=ax, s=10, alpha=0.1, cmap=cm)\n",
    "    ax.set_title(f'Scatter plot of the UMAPed data with {n_clusters} clusters')\n",
    "\n",
    "    psc()\n",
    "\n",
    "plt.plot(n_clusters_arr, costs_arr)\n",
    "plt.xlabel('Number of clusters')\n",
    "plt.ylabel('Cost')\n",
    "plt.title('Cost of clustering')\n",
    "psc()"
   ]
  },
  {
   "cell_type": "markdown",
   "metadata": {},
   "source": [
    "# Step 1: Data Normalization"
   ]
  },
  {
   "cell_type": "markdown",
   "source": [
    "We briefly discussed the importance of data normalization in the previous chapter.\n",
    "\n",
    "The main reasons for data normalization are:\n",
    "* to make the data more suitable for the model (e.g. neural networks have better convergence properties if the data normalization is compatible with the parameter initialization)\n",
    "* to deal with outliers, skewed distributions, and non-linear relationships\n",
    "* to prevent the model from being biased towards some features\n",
    "* to prevent the model from learnign wrong relationships between features due to improper data representation"
   ],
   "metadata": {
    "collapsed": false
   }
  },
  {
   "cell_type": "markdown",
   "metadata": {},
   "source": [
    "We are going to look at the most standard data preprocessing/normalization techniques:\n",
    "* StandardScaler\n",
    "* MinMaxScaler\n",
    "* RobustScaler\n",
    "* PowerTransformer\n",
    "\n",
    "* LabelEncoder\n",
    "* OrdinalEncoder\n",
    "* OneHotEncoder\n",
    "\n",
    "Which of these do you already know?"
   ]
  },
  {
   "cell_type": "markdown",
   "metadata": {},
   "source": [
    "## Сontinuous data"
   ]
  },
  {
   "cell_type": "code",
   "execution_count": null,
   "metadata": {
    "is_executing": true
   },
   "outputs": [],
   "source": [
    "cols = ['AveRooms', 'Longitude', 'MedHouseVal']\n",
    "xy = np.concatenate((x_orig, y_orig.reshape(-1, 1)), axis=1)\n",
    "df_sel = pd.DataFrame(xy, columns=data.feature_names + data.target_names)\n",
    "df_sel = df_sel[cols]\n",
    "\n",
    "v1, v2, v3 = df_sel.values.T\n",
    "\n",
    "# make pairgris as before:\n",
    "g = sns.PairGrid(df_sel)\n",
    "g.map_upper(sns.kdeplot, n_levels=10)\n",
    "g.map_lower(sns.regplot, scatter_kws={'color': 'blue', 'alpha': 0.1, 's': 15}, line_kws={'color': 'red', 'alpha': 0.3})\n",
    "g.map_diag(sns.histplot, multiple='stack')"
   ]
  },
  {
   "cell_type": "code",
   "execution_count": null,
   "metadata": {
    "is_executing": true
   },
   "outputs": [],
   "source": [
    "# for each variable perform each normalization and plot the distribution (upper row) and the log distribution (lower row)\n",
    "\n",
    "norms = [StandardScaler, MinMaxScaler, RobustScaler, PowerTransformer]\n",
    "norms_names = [ 'StandardScaler', 'MinMaxScaler', 'RobustScaler', 'PowerTransformer']\n",
    "\n",
    "n_norms = len(norms)\n",
    "for v, ttl in zip([v1, v2, v3], cols):\n",
    "    fig, ax = plt.subplots(2, 1 + n_norms, figsize=(15, 4))\n",
    "\n",
    "    for j in range(2):\n",
    "        ax_ji = ax[j, 0]\n",
    "        sns.histplot(v, ax=ax_ji, alpha=0.3)\n",
    "\n",
    "        moments = [v.mean(), v.var(), skew(v), kurtosis(v)]\n",
    "        moments_str = ', '.join([f'{moment:.3f}' for moment, moment_name in zip(moments, ['mean', 'var', 'skew', 'kurt'])])\n",
    "        ax_ji.set_title(f'original data\\n{moments_str}')\n",
    "\n",
    "        if j==1:\n",
    "            ax_ji.set_yscale('log')\n",
    "\n",
    "        for i, (norm, norm_name) in enumerate(zip(norms, norms_names)):\n",
    "            v_norm = norm().fit_transform(v.reshape(-1, 1)).reshape(-1)\n",
    "\n",
    "            # get all first 4 moments of the distribution\n",
    "            moments = [v_norm.mean(), v_norm.var(), skew(v_norm), kurtosis(v_norm)]\n",
    "            moments_str = ', '.join([f'{moment:.3f}' for moment, moment_name in zip(moments, ['mean', 'var', 'skew', 'kurt'])])\n",
    "\n",
    "            ax_ji = ax[j, 1 + i]\n",
    "            sns.histplot(v_norm, ax=ax_ji, alpha=0.3)\n",
    "            ax_ji.set_title(f'{norm_name}\\n{moments_str}')\n",
    "            if j == 1:\n",
    "                ax_ji.set_yscale('log')\n",
    "\n",
    "    plt.suptitle(ttl)\n",
    "    plt.tight_layout(h_pad=2)\n",
    "    psc()"
   ]
  },
  {
   "cell_type": "markdown",
   "metadata": {},
   "source": [
    "As you see the robust scaler is the most robust to outliers, but it's not the best for the other distributions.\n",
    "The power transformer is the best to make data normally distributed, but it's not always producing the best results."
   ]
  },
  {
   "cell_type": "markdown",
   "metadata": {},
   "source": [
    "## Categorical data"
   ]
  },
  {
   "cell_type": "code",
   "execution_count": null,
   "metadata": {
    "is_executing": true
   },
   "outputs": [],
   "source": [
    "# make dummy dataframe with categorical data:\n",
    "# color: red, green, blue\n",
    "# size: small, medium, large\n",
    "# shape: round, square, triangle, parallelogram, diamond\n",
    "# fill with random values out of the categories, 100 rows\n",
    "\n",
    "n = 100\n",
    "df_cat = pd.DataFrame({\n",
    "    'color': np.random.choice(['red', 'green', 'blue'], n),\n",
    "    'size': np.random.choice([1, 10, 100], n),\n",
    "    'shape': np.random.choice(['round', 'square', 'triangle', 'parallelogram', 'diamond'], n)\n",
    "})\n",
    "\n",
    "\n",
    "n_norms = len(norms)\n",
    "\n",
    "for col in df_cat.columns:\n",
    "    df_col = df_cat[[col]]\n",
    "\n",
    "    normed_vals = LabelEncoder().fit_transform(df_col[col].values)  # output is integer, single column\n",
    "    df_col[f'{col}_LabelEncoder'] = normed_vals\n",
    "\n",
    "    # ensure that the categories are sorted\n",
    "    categories = sorted(np.unique(df_col[col]))\n",
    "    # output is float(integer), multiple columns at a time\n",
    "    normed_vals = OrdinalEncoder(categories=[categories]).fit_transform(df_col[col].values.reshape(-1, 1))\n",
    "    df_col[f'{col}_OrdinalEncoder'] = normed_vals.reshape(-1)\n",
    "\n",
    "    normed_vals = OneHotEncoder(sparse_output=False, drop='first').fit_transform(df_col[col].values.reshape(-1, 1))\n",
    "    df_col[f'{col}_OneHotEncoder'] = [str(normed_vals_i) for normed_vals_i in normed_vals]\n",
    "\n",
    "\n",
    "    print(f'\\ncol={col}')\n",
    "    print(df_col.head(10))\n"
   ]
  },
  {
   "cell_type": "markdown",
   "metadata": {},
   "source": [
    "So we can see that the OrdinalEncoder is suitable for the size column, as it's naturally ordered.\n",
    "For advanced models label encoding can only be ised if the categories are used as tokens, otherwise it's better to use one hot encoding\n",
    "\n",
    "The one hot can be always used, but it increases the onumber of colums substantially, so it's not always the best choice.\n",
    "To prevent linearly dependent columns, we can use the `drop` parameter, which drops the first column of each category, so we have `n-1` columns for `n` categories."
   ]
  },
  {
   "cell_type": "markdown",
   "metadata": {},
   "source": [
    "# Step 2: Data Imputation"
   ]
  },
  {
   "cell_type": "markdown",
   "source": [
    "Data imputation is the process of replacing missing data with substituted values.\n",
    "You often have to deal with missing data, either because the data is not available, or because it's not applicable, or because it's not recorded."
   ],
   "metadata": {
    "collapsed": false
   }
  },
  {
   "cell_type": "markdown",
   "metadata": {},
   "source": [
    "## Ouliers"
   ]
  },
  {
   "cell_type": "code",
   "execution_count": null,
   "metadata": {
    "is_executing": true
   },
   "outputs": [],
   "source": [
    "ecod = ECOD(n_jobs=-1, contamination=0.1)\n",
    "ecod.fit(x)\n",
    "df['outlier'] = ecod.predict(x)"
   ]
  },
  {
   "cell_type": "code",
   "execution_count": null,
   "metadata": {
    "is_executing": true
   },
   "outputs": [],
   "source": [
    "df['outlier'].value_counts()"
   ]
  },
  {
   "cell_type": "code",
   "execution_count": null,
   "metadata": {
    "is_executing": true
   },
   "outputs": [],
   "source": [
    "# make a scatter plot of the umap_2d data with the outliers\n",
    "fig, ax = plt.subplots(1, 1, figsize=(7, 7))\n",
    "\n",
    "cm = plt.cm.get_cmap('tab20c', 2)\n",
    "plt.rcParams['axes.prop_cycle'] = plt.cycler(color=cm.colors)\n",
    "sns.scatterplot(x=x_umap_2d[:, 0], y=x_umap_2d[:, 1], hue=df['outlier'], ax=ax, s=10, alpha=0.8);"
   ]
  },
  {
   "cell_type": "markdown",
   "metadata": {},
   "source": [
    "## Missing data"
   ]
  },
  {
   "cell_type": "markdown",
   "metadata": {},
   "source": [
    "There several methods of dealing with missing data. The most important is to understand the nature of the missing data:\n",
    "* is it missing completely at random (MCAR) - independent of the observed and missing data\n",
    "* is it missing at random (MAR) - dependent on the observed data but independent of the missing data\n",
    "* is it missing not at random (MNAR) - dependent on the missing data\n",
    "\n"
   ]
  },
  {
   "attachments": {
    "image.png": {
     "image/png": "[encoded data removed]"
    }
   },
   "cell_type": "markdown",
   "metadata": {},
   "source": [
    " [Summary-of-methods-for-handling-missing-values-in-data-instances](https://www.researchgate.net/figure/Summary-of-methods-for-handling-missing-values-in-data-instances-259_fig12_313510665)\n",
    "\n",
    "\n",
    "<img src=\"https://github.com/dsl-unibe-ch/Advanced_ML_with_scikit-learn/raw/main/fig_imputation.png\" alt=\"fig_imputation\" width=\"50%\"/><br>"
   ]
  },
  {
   "cell_type": "code",
   "execution_count": null,
   "metadata": {
    "is_executing": true
   },
   "outputs": [],
   "source": [
    "# make a copy of the original data\n",
    "df_imp = df.copy()"
   ]
  },
  {
   "cell_type": "code",
   "execution_count": null,
   "metadata": {
    "is_executing": true
   },
   "outputs": [],
   "source": [
    "xy = np.concatenate((x, y.reshape(-1, 1)), axis=1)\n",
    "print(xy.shape)\n",
    "df_imp = pd.DataFrame(xy, columns=data.feature_names + data.target_names)"
   ]
  },
  {
   "cell_type": "code",
   "execution_count": null,
   "metadata": {
    "is_executing": true
   },
   "outputs": [],
   "source": [
    "# make some missing values in the data\n",
    "df_imp.loc[df_imp.sample(frac=0.5).index, 'AveRooms'] = np.nan"
   ]
  },
  {
   "cell_type": "code",
   "execution_count": null,
   "metadata": {
    "is_executing": true
   },
   "outputs": [],
   "source": [
    "df_imp.isna().mean()"
   ]
  },
  {
   "cell_type": "code",
   "execution_count": null,
   "metadata": {
    "is_executing": true
   },
   "outputs": [],
   "source": [
    "# impute the missing values with the mean\n",
    "imp = SimpleImputer(strategy='mean')  # strategy can be 'mean', 'median', 'most_frequent', 'constant' (according to `fill_value`)\n",
    "\n",
    "df_imp['AveRooms_imp'] = imp.fit_transform(df_imp[['AveRooms']])\n"
   ]
  },
  {
   "cell_type": "code",
   "execution_count": null,
   "metadata": {
    "is_executing": true
   },
   "outputs": [],
   "source": [
    "#plot distribution of the original and imputed data\n",
    "\n",
    "fig, ax = plt.subplots(1, 1, figsize=(15, 4))\n",
    "\n",
    "bins=np.linspace(-10, 30, 40)\n",
    "# alpha is .3 to make the plot more transparent, log scale to see the small values\n",
    "sns.histplot(df['AveRooms'], ax=ax, label='Original', alpha=0.3, color='red', bins=bins)\n",
    "sns.histplot(df_imp['AveRooms_imp'], ax=ax, label='Imputed', alpha=0.3, color='blue', bins=bins)\n",
    "ax.set_yscale('log')"
   ]
  },
  {
   "cell_type": "code",
   "execution_count": null,
   "metadata": {
    "is_executing": true
   },
   "outputs": [],
   "source": [
    "df_imp.columns"
   ]
  },
  {
   "cell_type": "code",
   "execution_count": null,
   "metadata": {
    "is_executing": true
   },
   "outputs": [],
   "source": [
    "knn = KNNImputer(n_neighbors=5)\n",
    "\n",
    "\n",
    "imp_cols = ['MedInc', 'HouseAge', 'AveRooms', 'AveBedrms', 'Population', 'AveOccup', 'Latitude', 'Longitude']\n",
    "df_imp['AveRooms_imp_knn'] = knn.fit_transform(df_imp[imp_cols])[:, 2]\n",
    "\n",
    "sns.histplot(df_imp['AveRooms_imp_knn'][df_imp['AveRooms'].isna()], label='Imputed KNN', alpha=0.3);"
   ]
  },
  {
   "cell_type": "code",
   "execution_count": null,
   "metadata": {
    "is_executing": true
   },
   "outputs": [],
   "source": [
    "#plot distribution of the original and imputed data\n",
    "\n",
    "fig, ax = plt.subplots(1, 1, figsize=(15, 4))\n",
    "\n",
    "bins=np.linspace(-10, 30, 40)\n",
    "# alpha is .3 to make the plot more transparent, log scale to see the small values\n",
    "sns.histplot(df['AveRooms'], ax=ax, label='Original', alpha=0.3, color='red', bins=bins)\n",
    "#sns.histplot(df_imp['AveRooms_imp'], ax=ax, label='Imputed', alpha=0.3, color='blue', bins=bins)\n",
    "sns.histplot(df_imp['AveRooms_imp_knn'], ax=ax, label='Imputed KNN', alpha=0.3, color='green', bins=bins)\n",
    "ax.set_yscale('log')"
   ]
  },
  {
   "cell_type": "code",
   "execution_count": null,
   "metadata": {
    "is_executing": true
   },
   "outputs": [],
   "source": [
    "# make iterative imputer of the data:\n",
    "# Multivariate imputer that estimates each feature from all the others.\n",
    "imp = IterativeImputer()\n",
    "\n",
    "df_imp['AveRooms_imp_iter'] = imp.fit_transform(df_imp[imp_cols])[:, 2]\n",
    "sns.histplot(df_imp['AveRooms_imp_iter'][df_imp['AveRooms'].isna()], label='Imputed regression', alpha=0.3);"
   ]
  },
  {
   "cell_type": "code",
   "execution_count": null,
   "metadata": {
    "is_executing": true
   },
   "outputs": [],
   "source": [
    "#plot distribution of the original and imputed data\n",
    "\n",
    "fig, ax = plt.subplots(1, 1, figsize=(15, 4))\n",
    "\n",
    "bins=np.linspace(-10, 30, 40)\n",
    "# alpha is .3 to make the plot more transparent, log scale to see the small values\n",
    "sns.histplot(df['AveRooms'], ax=ax, label='Original', alpha=0.3, color='red', bins=bins)\n",
    "#sns.histplot(df_imp['AveRooms_imp'], ax=ax, label='Imputed', alpha=0.3, color='blue', bins=bins)\n",
    "#sns.histplot(df_imp['AveRooms_imp_knn'], ax=ax, label='Imputed KNN', alpha=0.3, color='green', bins=bins)\n",
    "sns.histplot(df_imp['AveRooms_imp_iter'], ax=ax, label='Imputed Iter', alpha=0.3, color='yellow', bins=bins)\n",
    "ax.set_yscale('log')"
   ]
  },
  {
   "cell_type": "code",
   "execution_count": null,
   "metadata": {
    "is_executing": true
   },
   "outputs": [],
   "source": [
    "# np.float = np.float64  # might be needed for new np for impyute to run"
   ]
  },
  {
   "cell_type": "code",
   "execution_count": null,
   "metadata": {
    "is_executing": true
   },
   "outputs": [],
   "source": [
    "df_imp['AveRooms_imp_mice'] = mice(df_imp[imp_cols].values)[:, 2]\n",
    "\n",
    "sns.histplot(df_imp['AveRooms_imp_mice'][df_imp['AveRooms'].isna()], label='Imputed MICE', alpha=0.3);"
   ]
  },
  {
   "cell_type": "code",
   "execution_count": null,
   "metadata": {
    "is_executing": true
   },
   "outputs": [],
   "source": [
    "#plot distribution of the original and imputed data\n",
    "\n",
    "fig, ax = plt.subplots(1, 1, figsize=(15, 4))\n",
    "\n",
    "bins=np.linspace(-10, 30, 40)\n",
    "# alpha is .3 to make the plot more transparent, log scale to see the small values\n",
    "sns.histplot(df['AveRooms'], ax=ax, label='Original', alpha=0.3, color='red', bins=bins)\n",
    "#sns.histplot(df_imp['AveRooms_imp'], ax=ax, label='Imputed', alpha=0.3, color='blue', bins=bins)\n",
    "#sns.histplot(df_imp['AveRooms_imp_knn'], ax=ax, label='Imputed KNN', alpha=0.3, color='green', bins=bins)\n",
    "sns.histplot(df_imp['AveRooms_imp_iter'], ax=ax, label='Imputed Iter', alpha=0.3, color='yellow', bins=bins)\n",
    "sns.histplot(df_imp['AveRooms_imp_mice'][df_imp['AveRooms'].isna()], label='Imputed MICE', alpha=0.3, color='purple', bins=bins)\n",
    "ax.set_yscale('log')"
   ]
  },
  {
   "cell_type": "markdown",
   "metadata": {},
   "source": [
    "Please explore the other imputation methods in the `impyute` library.\n",
    "There is a number of them for different types of data."
   ]
  },
  {
   "cell_type": "markdown",
   "metadata": {},
   "source": [
    "# Step 3. Data Transformation Pipeline"
   ]
  },
  {
   "cell_type": "markdown",
   "metadata": {},
   "source": [
    "We see by now that we have a number of preprocessing steps even before we start fitting the model. To simplify our work we can use the `Pipeline` class from `sklearn.pipeline` module.\n",
    "\n",
    "The aim of a pipeline is to assemble several preprocessing steps and a model in a single object."
   ]
  },
  {
   "cell_type": "code",
   "execution_count": null,
   "metadata": {
    "is_executing": true
   },
   "outputs": [],
   "source": [
    "data = fetch_california_housing()\n",
    "x, y = data.data, data.target\n",
    "\n",
    "col_names = data.feature_names\n",
    "tgt_names = data.target_names\n",
    "\n",
    "xy = np.concatenate((x, y.reshape(-1, 1)), axis=1)\n",
    "\n",
    "df = pd.DataFrame(xy, columns=col_names + tgt_names)"
   ]
  },
  {
   "cell_type": "code",
   "execution_count": null,
   "metadata": {
    "is_executing": true
   },
   "outputs": [],
   "source": [
    "# 'Longitude', 'Latitude', 'HouseAge' - MinMaxScaler\n",
    "# 'Population', 'AveOccup', 'AveRooms', 'AveBedrms', 'MedInc' - PowerTransformer\n",
    "\n",
    "# standardize the target\n",
    "pipeline_min_max = Pipeline([\n",
    "    ('min_max_scaler', MinMaxScaler())\n",
    "])\n",
    "\n",
    "pipeline_power = Pipeline([\n",
    "    ('power_transformer', PowerTransformer())\n",
    "])\n",
    "\n",
    "\n",
    "pipeline_preproc = ColumnTransformer([\n",
    "    ('min_max_scaler', pipeline_min_max, ['Longitude', ]),\n",
    "    ('power_transformer', pipeline_power, ['Population', ]),\n",
    "],\n",
    "    remainder='passthrough')\n"
   ]
  },
  {
   "cell_type": "code",
   "execution_count": null,
   "metadata": {
    "is_executing": true
   },
   "outputs": [],
   "source": [
    "pipeline_preproc.fit(df)\n",
    "df_preproc =  pd.DataFrame(pipeline_preproc.transform(df), columns=pipeline_preproc.get_feature_names_out())"
   ]
  },
  {
   "cell_type": "code",
   "execution_count": null,
   "metadata": {
    "is_executing": true
   },
   "outputs": [],
   "source": [
    "df_preproc"
   ]
  },
  {
   "cell_type": "markdown",
   "metadata": {},
   "source": [
    "we can expand the pipeline to impute the missing values with the MICE method."
   ]
  },
  {
   "cell_type": "code",
   "execution_count": null,
   "metadata": {
    "is_executing": true
   },
   "outputs": [],
   "source": [
    "pipeline_impute = Pipeline([\n",
    "    ('mice_imputer', mice)\n",
    "])\n",
    "\n",
    "pipeline_preproc = ColumnTransformer([\n",
    "    ('min_max_scaler', pipeline_min_max, ['Longitude', 'Latitude', 'HouseAge']),\n",
    "    ('power_transformer', pipeline_power, ['Population', 'AveOccup', 'AveRooms', 'AveBedrms', 'MedInc']),\n",
    "],\n",
    "    remainder='passthrough')\n",
    "\n",
    "pipeline = Pipeline([\n",
    "    ('preproc', pipeline_preproc),\n",
    "    ('impute', pipeline_impute),\n",
    "    ('pass', 'passthrough')\n",
    "])\n",
    "\n",
    "pipeline.fit(df)\n",
    "df_preproc =  pd.DataFrame(pipeline.transform(df), columns=pipeline.get_feature_names_out())\n",
    "df_preproc.head()"
   ]
  },
  {
   "cell_type": "code",
   "execution_count": null,
   "metadata": {
    "is_executing": true
   },
   "outputs": [],
   "source": [
    "# we need a custom funciton to make the pipeline work with the mice imputer function\n",
    "\n",
    "def mice_imputer(data_x):\n",
    "    if np.isnan(data_x).any():\n",
    "        return mice(data_x)\n",
    "    else:\n",
    "        return data_x\n",
    "\n",
    "pipeline_impute = Pipeline([\n",
    "    ('mice_imputer', FunctionTransformer(mice_imputer))\n",
    "])\n",
    "\n",
    "pipeline = Pipeline([\n",
    "    ('preproc', pipeline_preproc),\n",
    "    ('impute', pipeline_impute),\n",
    "    ('pass', 'passthrough')\n",
    "])\n",
    "\n",
    "pipeline.fit(df)\n",
    "df_preproc =  pd.DataFrame(pipeline.transform(df), columns=pipeline_preproc.get_feature_names_out())\n",
    "df_preproc.head()\n"
   ]
  },
  {
   "cell_type": "code",
   "execution_count": null,
   "metadata": {
    "is_executing": true
   },
   "outputs": [],
   "source": [
    "%%time\n",
    "# finally we can add a model to the pipeline. let's use a random forest regressor\n",
    "\n",
    "pipeline = Pipeline([\n",
    "    ('preproc', pipeline_preproc),\n",
    "    ('impute', pipeline_impute),\n",
    "    ('model', RandomForestRegressor())\n",
    "])\n",
    "\n",
    "tgt_name = tgt_names[0]\n",
    "df_train, df_test = train_test_split(df, test_size=0.2)\n",
    "pipeline.fit(df_train[col_names], df_train[tgt_name])\n",
    "\n",
    "y_pred = pipeline.predict(df_test[col_names])\n",
    "\n",
    "mse = mean_squared_error(df_test[tgt_name], y_pred)\n",
    "r2 = r2_score(df_test[tgt_name], y_pred)\n",
    "print(f'mse={mse:.3f}, r2={r2:.3f}')\n",
    "\n",
    "# plot the predicted vs true values\n",
    "\n",
    "fig, ax = plt.subplots(1, 1, figsize=(5, 5))\n",
    "sns.scatterplot(x=df_test[tgt_name], y=y_pred, ax=ax, alpha=0.3)\n",
    "ax.set_xlabel('True')\n",
    "ax.set_ylabel('Predicted')\n",
    "\n",
    "psc()"
   ]
  },
  {
   "cell_type": "code",
   "execution_count": null,
   "metadata": {
    "is_executing": true
   },
   "outputs": [],
   "source": [
    "%%time\n",
    "# we can also use the pipeline to do CV and grid search\n",
    "\n",
    "param_grid = {\n",
    "    'model__n_estimators': [10, 100, 200, 400],  # ToDo: test if 400 is ok on colab\n",
    "    'model__max_depth': [1, 20, 100],\n",
    "}\n",
    "\n",
    "grid_search = GridSearchCV(pipeline, param_grid, cv=2, n_jobs=2, verbose=2)\n",
    "\n",
    "grid_search.fit(df_train[col_names], df_train[tgt_name])"
   ]
  },
  {
   "cell_type": "code",
   "execution_count": null,
   "metadata": {
    "is_executing": true
   },
   "outputs": [],
   "source": [
    "print(grid_search.best_params_)"
   ]
  },
  {
   "cell_type": "code",
   "execution_count": null,
   "metadata": {
    "is_executing": true
   },
   "outputs": [],
   "source": [
    "grid_search.cv_results_"
   ]
  },
  {
   "cell_type": "code",
   "execution_count": null,
   "metadata": {
    "is_executing": true
   },
   "outputs": [],
   "source": [
    "res = grid_search.cv_results_\n",
    "cfgs = [str(p) for p in res['params']]\n",
    "scores = res['mean_test_score']\n",
    "scores_std = res['std_test_score']\n",
    "\n",
    "time = res['mean_fit_time']\n",
    "time_std = res['std_fit_time']\n",
    "\n",
    "# plot the results\n",
    "fig, ax = plt.subplots(1, 1, figsize=(10, 5))\n",
    "ax.errorbar(cfgs, scores, yerr=scores_std, fmt='o')\n",
    "ax.set_xticklabels(cfgs, rotation=90)\n",
    "ax.set_ylabel('mean test score (r2)')\n",
    "ax.set_xlabel('configurations')\n",
    "psc()\n",
    "\n",
    "\n",
    "# plot the time\n",
    "\n",
    "fig, ax = plt.subplots(1, 1, figsize=(10, 5))\n",
    "ax.errorbar(cfgs, time, yerr=time_std, fmt='o')\n",
    "ax.set_xticklabels(cfgs, rotation=90)\n",
    "ax.set_ylabel('mean fit time, sec')\n",
    "ax.set_xlabel('configurations')\n",
    "psc()"
   ]
  },
  {
   "cell_type": "code",
   "execution_count": null,
   "metadata": {
    "is_executing": true
   },
   "outputs": [],
   "source": [
    "y_pred = grid_search.predict(df_test[col_names])\n",
    "\n",
    "mse = mean_squared_error(df_test[tgt_name], y_pred)\n",
    "r2 = r2_score(df_test[tgt_name], y_pred)\n",
    "\n",
    "print(f'mse={mse:.3f}, r2={r2:.3f}')\n",
    "\n",
    "# plot the predicted vs true values\n",
    "\n",
    "fig, ax = plt.subplots(1, 1, figsize=(5, 5))\n",
    "sns.scatterplot(x=df_test[tgt_name], y=y_pred, ax=ax, alpha=0.3)\n",
    "ax.set_xlabel('True')\n",
    "ax.set_ylabel('Predicted')\n",
    "psc()"
   ]
  },
  {
   "cell_type": "markdown",
   "source": [
    "It is not advised to use the pipeline for the metric evaluation, e.g. see the discussion [here](https://stackoverflow.com/questions/43787107/use-a-metric-after-a-classifier-in-a-pipeline)    "
   ],
   "metadata": {
    "collapsed": false
   }
  },
  {
   "cell_type": "markdown",
   "metadata": {},
   "source": [
    "# Step 4. Saving and Loading Models"
   ]
  },
  {
   "cell_type": "markdown",
   "metadata": {},
   "source": [
    "The easiest is to use the `joblib` library, which is more efficient on objects that carry large numpy arrays internally as is often the case for fitted scikit-learn estimators.\n",
    "Saving the model with simple `pickle` can be problematic, as it can lead to compatibility issues between different Python versions."
   ]
  },
  {
   "cell_type": "code",
   "execution_count": null,
   "metadata": {
    "is_executing": true
   },
   "outputs": [],
   "source": [
    "# save the pipeline\n",
    "dump(pipeline, 'pipeline.joblib')\n",
    "\n",
    "# load the pipeline\n",
    "pipeline_loaded = load('pipeline.joblib')\n",
    "\n",
    "# use the loaded pipeline\n",
    "y_pred = pipeline_loaded.predict(df_test[col_names])\n",
    "\n",
    "mse = mean_squared_error(df_test[tgt_name], y_pred)\n",
    "print(f'mse={mse:.3f}')\n",
    "\n",
    "# plot the predicted vs true values\n"
   ]
  },
  {
   "cell_type": "markdown",
   "metadata": {},
   "source": [
    "# Step 5. Data IO"
   ]
  },
  {
   "cell_type": "code",
   "execution_count": null,
   "metadata": {
    "is_executing": true
   },
   "outputs": [],
   "source": [
    "# save the data\n",
    "\n",
    "# csv is human-readable, but not the most efficient\n",
    "df.to_csv('california_housing.csv', index=False)\n",
    "\n",
    "# feather is the most efficient for pandas dataframes\n",
    "df.to_feather('california_housing.feather')"
   ]
  },
  {
   "cell_type": "code",
   "outputs": [],
   "source": [
    "\n",
    "# load the data, testing time\n",
    "\n",
    "%timeit df_csv = pd.read_csv('california_housing.csv')\n",
    "%timeit df_feather = pd.read_feather('california_housing.feather')"
   ],
   "metadata": {
    "collapsed": false,
    "is_executing": true
   },
   "execution_count": null
  },
  {
   "cell_type": "code",
   "outputs": [],
   "source": [
    "# print file sizes\n",
    "\n",
    "print(f'csv: {os.path.getsize(\"california_housing.csv\") / 1024 / 1024:.3f} MB')\n",
    "print(f'feather: {os.path.getsize(\"california_housing.feather\") / 1024 / 1024:.3f} MB')"
   ],
   "metadata": {
    "collapsed": false,
    "is_executing": true
   },
   "execution_count": null
  },
  {
   "cell_type": "markdown",
   "metadata": {},
   "source": [
    "# Step 6. Data Visualization"
   ]
  },
  {
   "cell_type": "markdown",
   "metadata": {},
   "source": [
    "We will end this course with same message as we started it: the importance of data visualization.\n",
    "After all, the main goal of the data analysis is to make the data understandable and interpretable.\n",
    "Once we did all the ML work, we need to present the results in a way that is understandable - to the stakeholders, to the team, to the scientific community, to the public, and most importantly to ourselves.\n",
    "\n",
    "\n",
    "We can use plotly for interactive plots:\n"
   ]
  },
  {
   "cell_type": "code",
   "execution_count": null,
   "metadata": {
    "is_executing": true
   },
   "outputs": [],
   "source": [
    "fig = px.scatter(df, x='AveRooms', y='AveBedrms', color='MedHouseVal', hover_data=['Latitude', 'Longitude'])"
   ]
  },
  {
   "cell_type": "code",
   "execution_count": null,
   "metadata": {
    "is_executing": true
   },
   "outputs": [],
   "source": [
    "df['idx'] = df.index"
   ]
  },
  {
   "cell_type": "code",
   "execution_count": null,
   "metadata": {
    "scrolled": true,
    "is_executing": true
   },
   "outputs": [],
   "source": [
    "external_stylesheets = ['https://codepen.io/chriddyp/pen/bWLwgP.css']\n",
    "app = Dash('Houses', external_stylesheets=external_stylesheets)\n",
    "\n",
    "\n",
    "\n",
    "app.layout = html.Div([\n",
    "    html.Div([\n",
    "\n",
    "        html.Div([\n",
    "            dcc.Dropdown(\n",
    "                df.columns,\n",
    "                'AveRooms',\n",
    "                id='crossfilter-xaxis-column',\n",
    "            ),\n",
    "            dcc.RadioItems(\n",
    "                ['Linear', 'Log'],\n",
    "                'Linear',\n",
    "                id='crossfilter-xaxis-type',\n",
    "                labelStyle={'display': 'inline-block', 'marginTop': '5px'}\n",
    "            )\n",
    "        ],\n",
    "        style={'width': '32%', 'float': 'left', 'display': 'inline-block'}),\n",
    "\n",
    "        html.Div([\n",
    "            dcc.Dropdown(\n",
    "                df.columns,\n",
    "                'AveBedrms',\n",
    "                id='crossfilter-yaxis-column'\n",
    "            ),\n",
    "            dcc.RadioItems(\n",
    "                ['Linear', 'Log'],\n",
    "                'Linear',\n",
    "                id='crossfilter-yaxis-type',\n",
    "                labelStyle={'display': 'inline-block', 'marginTop': '5px'}\n",
    "            )\n",
    "        ], style={'width': '32%', 'float': 'left', 'display': 'inline-block'}),\n",
    "        \n",
    "        html.Div([\n",
    "            dcc.Dropdown(\n",
    "                df.columns,\n",
    "                'MedHouseVal',\n",
    "                id='crossfilter-zaxis-column'\n",
    "            )\n",
    "        ], style={'width': '32%', 'float': 'left', 'display': 'inline-block'})\n",
    "    ], style={\n",
    "        'padding': '10px 5px'\n",
    "    }),\n",
    "\n",
    "    html.Div([\n",
    "        dcc.Graph(\n",
    "            id='crossfilter-indicator-scatter',\n",
    "            #hoverData={'points': [{'customdata': None}]},\n",
    "            selectedData={'points': [{'customdata': None}]}\n",
    "            \n",
    "        )\n",
    "    ], style={'width': '49%', 'display': 'inline-block', 'padding': '0 20'}),\n",
    "    html.Div([\n",
    "        dcc.Graph(id='x-plot'),\n",
    "        dcc.Graph(id='y-plot'),\n",
    "    ], style={'display': 'inline-block', 'width': '49%'}),\n",
    "\n",
    "    html.Div(dcc.Slider(\n",
    "        df['MedHouseVal'].min(),\n",
    "        df['MedHouseVal'].max(),\n",
    "        step=None,\n",
    "        id='crossfilter-houseval--slider',\n",
    "        value=df['MedHouseVal'].max(),\n",
    "        marks={str(v): str(v) for v in range(int(df['MedHouseVal'].max()+1))}\n",
    "    ), style={'width': '49%', 'padding': '0px 20px 20px 20px'})\n",
    "])\n",
    "\n",
    "\n",
    "@callback(\n",
    "    Output('crossfilter-indicator-scatter', 'figure'),\n",
    "    Input('crossfilter-xaxis-column', 'value'),\n",
    "    Input('crossfilter-yaxis-column', 'value'),\n",
    "    Input('crossfilter-zaxis-column', 'value'),\n",
    "    Input('crossfilter-xaxis-type', 'value'),\n",
    "    Input('crossfilter-yaxis-type', 'value'),\n",
    "    Input('crossfilter-houseval--slider', 'value'))\n",
    "def update_graph(xaxis_column_name, yaxis_column_name, zaxis_column_name,\n",
    "                 xaxis_type, yaxis_type,\n",
    "                 price_value):\n",
    "    dff = df[df['MedHouseVal'] < price_value]\n",
    "\n",
    "\n",
    "\n",
    "    fig = px.scatter(x=dff[xaxis_column_name],\n",
    "                     y=dff[yaxis_column_name],\n",
    "                     color=dff[zaxis_column_name],\n",
    "                     hover_name=dff['MedHouseVal']\n",
    "                     )\n",
    "\n",
    "    fig.update_traces(customdata=dff['idx'])\n",
    "\n",
    "    fig.update_xaxes(title=xaxis_column_name, type='linear' if xaxis_type == 'Linear' else 'log')\n",
    "\n",
    "    fig.update_yaxes(title=yaxis_column_name, type='linear' if yaxis_type == 'Linear' else 'log')\n",
    "\n",
    "    fig.update_layout(margin={'l': 40, 'b': 40, 't': 10, 'r': 0}, hovermode='closest')\n",
    "\n",
    "    return fig\n",
    "\n",
    "\n",
    "def create_plot(dff, axis_type, axis):\n",
    "\n",
    "    fig = px.scatter(dff, x='MedHouseVal', y=axis)\n",
    "\n",
    "    fig.update_traces(mode='markers')\n",
    "\n",
    "    fig.update_xaxes(showgrid=False)\n",
    "\n",
    "    fig.update_yaxes(type='linear' if axis_type == 'Linear' else 'log')\n",
    "\n",
    "    fig.add_annotation(x=0, y=0.85, xanchor='left', yanchor='bottom',\n",
    "                       xref='paper', yref='paper', showarrow=False, align='left',\n",
    "                       text=axis)\n",
    "\n",
    "    fig.update_layout(height=225, margin={'l': 20, 'b': 30, 'r': 10, 't': 10})\n",
    "\n",
    "    return fig\n",
    "\n",
    "\n",
    "@callback(\n",
    "    Output('x-plot', 'figure'),\n",
    "    Input('crossfilter-indicator-scatter', 'selectedData'),\n",
    "    Input('crossfilter-xaxis-column', 'value'),\n",
    "    Input('crossfilter-xaxis-type', 'value'))\n",
    "def update_x_timeseries(hoverData, xaxis_column_name, axis_type):\n",
    "    idx = [p['customdata'] for p in hoverData['points']]\n",
    "    idx = [i for i in idx if i is not None]\n",
    "    dff = df.iloc[idx]\n",
    "    return create_plot(dff, axis_type, xaxis_column_name)\n",
    "\n",
    "\n",
    "@callback(\n",
    "    Output('y-plot', 'figure'),\n",
    "    Input('crossfilter-indicator-scatter', 'selectedData'),\n",
    "    Input('crossfilter-yaxis-column', 'value'),\n",
    "    Input('crossfilter-yaxis-type', 'value'))\n",
    "def update_y_timeseries(hoverData, yaxis_column_name, axis_type):\n",
    "    idx = [p['customdata'] for p in hoverData['points']]\n",
    "    idx = [i for i in idx if i is not None]\n",
    "    dff = df.iloc[idx]\n",
    "    return create_plot(dff, axis_type, yaxis_column_name)\n",
    "\n",
    "\n",
    "app.run(debug=True)\n"
   ]
  },
  {
   "cell_type": "markdown",
   "source": [
    "# Workshop"
   ],
   "metadata": {
    "collapsed": false
   }
  },
  {
   "cell_type": "markdown",
   "source": [
    "Use your data to exercise the same steps as in the notebook.\n",
    "\n",
    "Alternatively, you can use the extended house price data: Subset of the Ames Houses dataset: http://jse.amstat.org/v19n3/decock.pdf\n",
    "\n"
   ],
   "metadata": {
    "collapsed": false
   }
  },
  {
   "cell_type": "code",
   "outputs": [],
   "source": [
    "# load the data\n",
    "path = os.path.abspath('.')+'/colab_material.tgz'\n",
    "url = 'https://github.com/neworldemancer/DSF5/raw/master/colab_material.tgz'\n",
    "\n",
    "r = requests.get(url)\n",
    "\n",
    "with open(path, 'wb') as f:\n",
    "    f.write(r.content)\n",
    "    \n",
    "tar = tarfile.open(path, \"r:gz\")\n",
    "tar.extractall()\n",
    "tar.close()"
   ],
   "metadata": {
    "collapsed": false,
    "is_executing": true
   },
   "execution_count": null
  },
  {
   "cell_type": "code",
   "outputs": [],
   "source": [
    "path = 'data/AmesHousing.csv'\n",
    "df = pd.read_csv(path, na_values=('NaN', ''), keep_default_na=False)\n",
    "rename_dict = {k:k.replace(' ', '').replace('/', '') for k in df.keys()}  # simplify the column names\n",
    "df.rename(columns=rename_dict, inplace=True)"
   ],
   "metadata": {
    "collapsed": false,
    "is_executing": true
   },
   "execution_count": null
  },
  {
   "cell_type": "code",
   "outputs": [],
   "source": [
    "df.head()"
   ],
   "metadata": {
    "collapsed": false,
    "is_executing": true
   },
   "execution_count": null
  },
  {
   "cell_type": "markdown",
   "source": [
    "# Further reading"
   ],
   "metadata": {
    "collapsed": false
   }
  },
  {
   "cell_type": "markdown",
   "source": [
    "* [scikit-learn](https://scikit-learn.org/stable/)\n",
    "* [hierarchical clustering](https://scikit-learn.org/stable/modules/clustering.html#hierarchical-clustering)\n",
    "* [dash](https://dash.plotly.com/)\n",
    "* [plotly](https://plotly.com/python/)\n",
    "* [streamlit](https://streamlit.io/)\n",
    "* [MLFlow](https://mlflow.org/)"
   ],
   "metadata": {
    "collapsed": false
   }
  },
  {
   "cell_type": "markdown",
   "source": [
    "# Courses and support at DSL"
   ],
   "metadata": {
    "collapsed": false
   }
  },
  {
   "cell_type": "markdown",
   "source": [
    "* [Data Science Lab](https://www.dsl.unibe.ch)\n",
    "* [Data Science Lab Walk-in](https://www.dsl.unibe.ch/support/walk_in/)"
   ],
   "metadata": {
    "collapsed": false
   }
  },
  {
   "cell_type": "code",
   "outputs": [],
   "source": [],
   "metadata": {
    "collapsed": false
   }
  }
 ],
 "metadata": {
  "colab": {
   "provenance": []
  },
  "kernelspec": {
   "display_name": "Python 3 (ipykernel)",
   "language": "python",
   "name": "python3"
  },
  "language_info": {
   "codemirror_mode": {
    "name": "ipython",
    "version": 3
   },
   "file_extension": ".py",
   "mimetype": "text/x-python",
   "name": "python",
   "nbconvert_exporter": "python",
   "pygments_lexer": "ipython3",
   "version": "3.10.12"
  }
 },
 "nbformat": 4,
 "nbformat_minor": 1
}
